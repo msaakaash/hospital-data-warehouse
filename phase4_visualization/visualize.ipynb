{
 "cells": [
  {
   "cell_type": "markdown",
   "id": "8a303723",
   "metadata": {},
   "source": [
    "### Loading necessary libraries"
   ]
  },
  {
   "cell_type": "code",
   "execution_count": 1,
   "id": "bdf22ac7",
   "metadata": {},
   "outputs": [],
   "source": [
    "import pandas as pd\n",
    "import matplotlib.pyplot as plt\n",
    "import seaborn as sns"
   ]
  },
  {
   "cell_type": "markdown",
   "id": "82af1c58",
   "metadata": {},
   "source": [
    "### Set global style"
   ]
  },
  {
   "cell_type": "code",
   "execution_count": 2,
   "id": "6ef01257",
   "metadata": {},
   "outputs": [],
   "source": [
    "sns.set(style=\"whitegrid\")\n",
    "plt.rcParams['figure.figsize'] = (10, 6)"
   ]
  },
  {
   "cell_type": "markdown",
   "id": "c1de3c08",
   "metadata": {},
   "source": [
    "### 1. Top Departments by Total Visit Cost"
   ]
  },
  {
   "cell_type": "code",
   "execution_count": null,
   "id": "7cb830bc",
   "metadata": {},
   "outputs": [
    {
     "data": {
      "text/plain": [
       "<Figure size 1000x600 with 0 Axes>"
      ]
     },
     "metadata": {},
     "output_type": "display_data"
    }
   ],
   "source": [
    "df_dept = pd.read_csv(\"top_departments.csv\", names=[\"Department\", \"Total Cost\"])\n",
    "sns.barplot(data=df_dept, x=\"Total Cost\", y=\"Department\", palette=\"Blues_d\")\n",
    "plt.title(\"Top 5 Departments by Total Visit Cost\")\n",
    "plt.xlabel(\"Total Cost\")\n",
    "plt.ylabel(\"Department\")\n",
    "plt.tight_layout()\n",
    "plt.savefig(\"viz_top_departments.png\")\n",
    "plt.clf()"
   ]
  },
  {
   "cell_type": "markdown",
   "id": "569f17db",
   "metadata": {},
   "source": [
    "### 2. Doctors with Most Patients"
   ]
  },
  {
   "cell_type": "code",
   "execution_count": 4,
   "id": "0c078b1e",
   "metadata": {},
   "outputs": [
    {
     "data": {
      "text/plain": [
       "<Figure size 1000x600 with 0 Axes>"
      ]
     },
     "metadata": {},
     "output_type": "display_data"
    }
   ],
   "source": [
    "df_doc = pd.read_csv(\"top_doctors.csv\", names=[\"Doctor\", \"Num Patients\"])\n",
    "sns.barplot(data=df_doc, x=\"Num Patients\", y=\"Doctor\", palette=\"Greens_d\")\n",
    "plt.title(\"Top 5 Doctors by Number of Patients\")\n",
    "plt.xlabel(\"Number of Patients\")\n",
    "plt.ylabel(\"Doctor\")\n",
    "plt.tight_layout()\n",
    "plt.savefig(\"viz_top_doctors.png\")\n",
    "plt.clf()"
   ]
  },
  {
   "cell_type": "markdown",
   "id": "274c7546",
   "metadata": {},
   "source": [
    "### 3. Most Common Diagnoses\n"
   ]
  },
  {
   "cell_type": "code",
   "execution_count": 5,
   "id": "b78b12ed",
   "metadata": {},
   "outputs": [
    {
     "data": {
      "text/plain": [
       "<Figure size 1000x600 with 0 Axes>"
      ]
     },
     "metadata": {},
     "output_type": "display_data"
    }
   ],
   "source": [
    "df_diag = pd.read_csv(\"top_diagnoses.csv\", names=[\"Diagnosis\", \"Count\"])\n",
    "sns.barplot(data=df_diag, x=\"Count\", y=\"Diagnosis\", palette=\"Purples_d\")\n",
    "plt.title(\"Most Common Diagnoses\")\n",
    "plt.xlabel(\"Count\")\n",
    "plt.ylabel(\"Diagnosis\")\n",
    "plt.tight_layout()\n",
    "plt.savefig(\"viz_top_diagnoses.png\")\n",
    "plt.clf()"
   ]
  },
  {
   "cell_type": "markdown",
   "id": "43ecafee",
   "metadata": {},
   "source": [
    "### 4. Age Group Analysis"
   ]
  },
  {
   "cell_type": "code",
   "execution_count": 6,
   "id": "e066dcfb",
   "metadata": {},
   "outputs": [
    {
     "data": {
      "text/plain": [
       "<Figure size 1000x600 with 0 Axes>"
      ]
     },
     "metadata": {},
     "output_type": "display_data"
    }
   ],
   "source": [
    "df_age = pd.read_csv(\"age_group_analysis.csv\", names=[\"Age Group\", \"Visits\"])\n",
    "sns.barplot(data=df_age, x=\"Age Group\", y=\"Visits\", palette=\"Oranges_d\")\n",
    "plt.title(\"Number of Visits by Age Group\")\n",
    "plt.xlabel(\"Age Group\")\n",
    "plt.ylabel(\"Number of Visits\")\n",
    "plt.tight_layout()\n",
    "plt.savefig(\"viz_age_groups.png\")\n",
    "plt.clf()"
   ]
  },
  {
   "cell_type": "markdown",
   "id": "d7a8fa48",
   "metadata": {},
   "source": [
    "### 5. Readmission Rates by Department"
   ]
  },
  {
   "cell_type": "code",
   "execution_count": 7,
   "id": "bc69547e",
   "metadata": {},
   "outputs": [
    {
     "data": {
      "text/plain": [
       "<Figure size 1000x600 with 0 Axes>"
      ]
     },
     "metadata": {},
     "output_type": "display_data"
    }
   ],
   "source": [
    "df_readmit = pd.read_csv(\"readmission_rates.csv\", names=[\"Department\", \"Total Visits\", \"Readmissions\", \"Rate (%)\"])\n",
    "sns.barplot(data=df_readmit, x=\"Rate (%)\", y=\"Department\", palette=\"Reds_d\")\n",
    "plt.title(\"Readmission Rate by Department\")\n",
    "plt.xlabel(\"Readmission Rate (%)\")\n",
    "plt.ylabel(\"Department\")\n",
    "plt.tight_layout()\n",
    "plt.savefig(\"viz_readmissions.png\")\n",
    "plt.clf()"
   ]
  },
  {
   "cell_type": "code",
   "execution_count": null,
   "id": "36caff78",
   "metadata": {},
   "outputs": [],
   "source": []
  }
 ],
 "metadata": {
  "kernelspec": {
   "display_name": "base",
   "language": "python",
   "name": "python3"
  },
  "language_info": {
   "codemirror_mode": {
    "name": "ipython",
    "version": 3
   },
   "file_extension": ".py",
   "mimetype": "text/x-python",
   "name": "python",
   "nbconvert_exporter": "python",
   "pygments_lexer": "ipython3",
   "version": "3.11.7"
  }
 },
 "nbformat": 4,
 "nbformat_minor": 5
}
